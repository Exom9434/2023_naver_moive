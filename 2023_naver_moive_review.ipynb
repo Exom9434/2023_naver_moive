{
 "cells": [
  {
   "cell_type": "markdown",
   "id": "b5f6354c",
   "metadata": {},
   "source": []
  },
  {
   "cell_type": "code",
   "execution_count": 1,
   "id": "890c909e",
   "metadata": {},
   "outputs": [],
   "source": [
    "from datacrawling import MovieRankingAnalyzer\n",
    "from preprocessing import Preprocessor\n"
   ]
  },
  {
   "cell_type": "code",
   "execution_count": 2,
   "id": "ea1a86b1",
   "metadata": {},
   "outputs": [],
   "source": [
    "crawler = MovieRankingAnalyzer(csv_filename= \"movie_ranking.csv\")"
   ]
  },
  {
   "cell_type": "code",
   "execution_count": 3,
   "id": "59f66927",
   "metadata": {},
   "outputs": [
    {
     "ename": "KeyboardInterrupt",
     "evalue": "",
     "output_type": "error",
     "traceback": [
      "\u001b[0;31m---------------------------------------------------------------------------\u001b[0m",
      "\u001b[0;31mKeyboardInterrupt\u001b[0m                         Traceback (most recent call last)",
      "Cell \u001b[0;32mIn[3], line 1\u001b[0m\n\u001b[0;32m----> 1\u001b[0m review_data \u001b[39m=\u001b[39m crawler\u001b[39m.\u001b[39;49mfind_ratings()\n",
      "File \u001b[0;32m~/Documents/2023_naver_moive/datacrawling.py:78\u001b[0m, in \u001b[0;36mMovieRankingAnalyzer.find_ratings\u001b[0;34m(self)\u001b[0m\n\u001b[1;32m     75\u001b[0m         \u001b[39mprint\u001b[39m(\u001b[39mstr\u001b[39m(movie_name) \u001b[39m+\u001b[39m \u001b[39m'\u001b[39m\u001b[39m \u001b[39m\u001b[39m'\u001b[39m \u001b[39m+\u001b[39m \u001b[39mstr\u001b[39m(times) \u001b[39m+\u001b[39m \u001b[39m'\u001b[39m\u001b[39m 회 실행했습니다\u001b[39m\u001b[39m'\u001b[39m)\n\u001b[1;32m     77\u001b[0m     \u001b[39mself\u001b[39m\u001b[39m.\u001b[39mdriver\u001b[39m.\u001b[39mexecute_script(\u001b[39m\"\u001b[39m\u001b[39marguments[0].scrollTop = arguments[0].scrollHeight\u001b[39m\u001b[39m\"\u001b[39m, to_scroll)\n\u001b[0;32m---> 78\u001b[0m     time\u001b[39m.\u001b[39msleep(\u001b[39m3\u001b[39m)\n\u001b[1;32m     80\u001b[0m \u001b[39mif\u001b[39;00m \u001b[39mlen\u001b[39m(movie_comments) \u001b[39m==\u001b[39m \u001b[39m0\u001b[39m:\n\u001b[1;32m     81\u001b[0m     \u001b[39mself\u001b[39m\u001b[39m.\u001b[39mclose_driver()\n",
      "\u001b[0;31mKeyboardInterrupt\u001b[0m: "
     ]
    }
   ],
   "source": [
    "review_data = crawler.find_ratings()\n",
    "review_data.to_csv(\"movie_review.csv\")"
   ]
  },
  {
   "cell_type": "code",
   "execution_count": null,
   "id": "af04759c",
   "metadata": {},
   "outputs": [],
   "source": []
  }
 ],
 "metadata": {
  "kernelspec": {
   "display_name": "Python 3 (ipykernel)",
   "language": "python",
   "name": "python3"
  },
  "language_info": {
   "codemirror_mode": {
    "name": "ipython",
    "version": 3
   },
   "file_extension": ".py",
   "mimetype": "text/x-python",
   "name": "python",
   "nbconvert_exporter": "python",
   "pygments_lexer": "ipython3",
   "version": "3.11.4"
  }
 },
 "nbformat": 4,
 "nbformat_minor": 5
}
